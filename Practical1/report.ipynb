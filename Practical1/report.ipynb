{
 "cells": [
  {
   "cell_type": "markdown",
   "metadata": {},
   "source": [
    "<h1><center>Practical: Tomography for binary pictures</center></h1>\n",
    "<h3><center>Dominic Therattil (S4228952) & Sebastian Preststulen (S4270754)</center></h3>\n",
    "\n",
    "\n",
    "<h2>Assignment 1 - Computation of the horizontal and vertical projections (30)</h2>"
   ]
  },
  {
   "cell_type": "code",
   "execution_count": null,
   "metadata": {},
   "outputs": [],
   "source": [
    "import cv2\n",
    "\n",
    "imname = 'rectangle'\n",
    "impath = 'Practical_Tomography/' + imname + '.png'\n",
    "A = cv2.imread(impath)"
   ]
  },
  {
   "cell_type": "markdown",
   "metadata": {},
   "source": [
    "The 2D array A now contains the pixel values of the picture *rectangle.png*. Let n be the number of rows of A. The number of columns of A is n as well (check this).\n",
    "\n",
    "- (15pt) Compute the column sums of A, and store the result in a vector *colsum*, which will have n elements. Compute the row sums of A, and store the result in a vector *rowsum*, which also will have n elements."
   ]
  },
  {
   "cell_type": "code",
   "execution_count": null,
   "metadata": {},
   "outputs": [],
   "source": [
    "white = [255, 255, 255]\n",
    "rowsum = [0] * len(A)\n",
    "colsum = [0] * len(A)\n",
    "\n",
    "for i in range (len(A)):\n",
    "    for j in range (len(A)):\n",
    "        #computing column sums\n",
    "        if ((A[j][i] == white).all()):\n",
    "            colsum[i] += 1\n",
    "        #computing row sums\n",
    "        if ((A[i][j] == white).all()):\n",
    "            rowsum[i] += 1"
   ]
  },
  {
   "cell_type": "markdown",
   "metadata": {},
   "source": [
    "- (10pt) Save the column and row sums in a file <em>rectangle_HVproj.mat</em> via the commands:"
   ]
  },
  {
   "cell_type": "code",
   "execution_count": null,
   "metadata": {},
   "outputs": [],
   "source": [
    "import scipy.io\n",
    "\n",
    "matlab_result = {\"colsum\": colsum, \"rowsum\": rowsum}\n",
    "\n",
    "projfile = imname + '_HVproj' + '.mat'\n",
    "scipy.io.savemat(projfile, matlab_result)"
   ]
  },
  {
   "cell_type": "markdown",
   "metadata": {},
   "source": [
    "The *_HVproj* label indicates that you only computed horizontal and vertical projections.\n",
    "\n",
    "- (5pt) Use your program to save the column and row sums of the picture *oval.png* to a file, and do thesame for *rock.png*. Save your program in a file with name *projections_HV.m*. If you use the live script, you may directly place your code inside the block below:"
   ]
  },
  {
   "cell_type": "code",
   "execution_count": null,
   "metadata": {},
   "outputs": [],
   "source": [
    "import cv2, scipy.io\n",
    "\n",
    "imname = 'rock'\n",
    "impath = 'Practical_Tomography/' + imname + '.png'\n",
    "\n",
    "A = cv2.imread(impath)\n",
    "\n",
    "white = [255, 255, 255]\n",
    "rowsum = [0] * len(A)\n",
    "colsum = [0] * len(A)\n",
    "\n",
    "for i in range (len(A)):\n",
    "    for j in range (len(A)):\n",
    "        #computing column sums\n",
    "        if ((A[j][i] == white).all()):\n",
    "            colsum[i] += 1\n",
    "        #computing row sums\n",
    "        if ((A[i][j] == white).all()):\n",
    "            rowsum[i] += 1\n",
    "\n",
    "matlab_result = {\"colsum\": colsum, \"rowsum\": rowsum}\n",
    "\n",
    "projfile = imname + '_HVproj' + '.mat'\n",
    "scipy.io.savemat(projfile, matlab_result)"
   ]
  },
  {
   "cell_type": "code",
   "execution_count": null,
   "metadata": {},
   "outputs": [],
   "source": [
    "import cv2, scipy.io\n",
    "\n",
    "imname = 'oval'\n",
    "impath = 'Practical_Tomography/' + imname + '.png'\n",
    "\n",
    "A = cv2.imread(impath)\n",
    "\n",
    "white = [255, 255, 255]\n",
    "rowsum = [0] * len(A)\n",
    "colsum = [0] * len(A)\n",
    "\n",
    "for i in range (len(A)):\n",
    "    for j in range (len(A)):\n",
    "        #computing column sums\n",
    "        if ((A[j][i] == white).all()):\n",
    "            colsum[i] += 1\n",
    "        #computing row sums\n",
    "        if ((A[i][j] == white).all()):\n",
    "            rowsum[i] += 1\n",
    "\n",
    "matlab_result = {\"colsum\": colsum, \"rowsum\": rowsum}\n",
    "\n",
    "projfile = imname + '_HVproj' + '.mat'\n",
    "scipy.io.savemat(projfile, matlab_result)"
   ]
  },
  {
   "cell_type": "markdown",
   "metadata": {},
   "source": [
    "<h2>Assignment 2 - Reconstruction from horizontal and vertical projections (70)</h2>\n",
    "\n",
    "Now you will implement the Kacmarz reconstruction algorithm for binary images in Python. Call the file with your implementation *tomography_HV.m*.\n",
    "Start by loading the projection data of the picture <em>rectangle.png</em> via the commands:\n"
   ]
  },
  {
   "cell_type": "code",
   "execution_count": null,
   "metadata": {},
   "outputs": [],
   "source": [
    "import scipy.io\n",
    "\n",
    "imname = 'rectangle'\n",
    "projfile = imname + '_HVproj' + '.mat'\n",
    "matlab_result = scipy.io.loadmat(projfile)"
   ]
  },
  {
   "cell_type": "markdown",
   "metadata": {},
   "source": [
    "The variables *colsum* and *rowsum* now contain the column and row sums of the picture *rectangle.png*.\n",
    "\n",
    "- (30pt) Implement Algorithm 2.2 from the syllabus in Matlab. We use the matrix representation of a picture. To test your program it can be useful to take a small n × n-matrix A as input. You can generate such a matrix with random zeroes and ones via the rand function, e.g.: "
   ]
  },
  {
   "cell_type": "code",
   "execution_count": null,
   "metadata": {},
   "outputs": [],
   "source": [
    "import numpy as np\n",
    "\n",
    "n = 4\n",
    "random_matrix_array = np.random.uniform(low=0, high=0.5, size=(n,n))"
   ]
  },
  {
   "cell_type": "markdown",
   "metadata": {},
   "source": [
    "- We chose to operate using normal arrays and convert our final computed array into a numpy array when we need to process it into an image"
   ]
  },
  {
   "cell_type": "markdown",
   "metadata": {},
   "source": [
    "For the initialization you can use an n × n matrix f(0) with zeroes. Initially set MAX_ITER to 1. When your program is complete you can use a value for MAX_ITER in the range 100-200."
   ]
  },
  {
   "cell_type": "code",
   "execution_count": null,
   "metadata": {},
   "outputs": [],
   "source": [
    "import scipy.io, cv2, numpy as np\n",
    "\n",
    "imname = 'rectangle'\n",
    "projfile = imname + '_HVproj' + '.mat'\n",
    "matlab_result = scipy.io.loadmat(projfile)\n",
    "\n",
    "colsum = matlab_result['colsum'][0]\n",
    "rowsum = matlab_result['rowsum'][0]\n",
    "n = len(colsum)\n",
    "MAX_ITER = 50\n",
    "eps = 0.00000005\n",
    "\n",
    "#initialising empty matrixes\n",
    "f0 = np.zeros((n,n))\n",
    "fn = np.zeros((n,n))\n",
    "finit = np.zeros((n,n))\n",
    "\n",
    "# kaczmarz method for reconstruction\n",
    "for k in range(MAX_ITER):\n",
    "    #setting f0\n",
    "    f0 = finit.copy()\n",
    "    \n",
    "    #looping through columns\n",
    "    Bc = np.zeros(n)\n",
    "    for c in range(n):\n",
    "        Bc[c] = (sum(f0[:,c]) - colsum[c])/n\n",
    "        fn[:,c] = f0[:,c] - Bc[c]\n",
    "    #correcting for pos and neg values\n",
    "    fn[fn<0]=0            \n",
    "    fn[fn>1]=1  \n",
    "\n",
    "    #setting f0\n",
    "    f0 = fn\n",
    "    #looping through rows\n",
    "    Br = np.zeros(n)\n",
    "    for r in range(n):\n",
    "        Br[r] =  (sum(f0[r,:]) - rowsum[r])/n\n",
    "        fn[r,:] = f0[r,:] - Br[r]\n",
    "    #correcting for pos and neg values\n",
    "    fn[fn<0]=0            \n",
    "    fn[fn>1]=1   \n",
    "\n",
    "    #comparing our reconstructed matrix with accuracy threshold   \n",
    "    relDif = abs(np.matrix(fn).sum() - np.matrix(finit).sum() ) / (n*n)\n",
    "    if (relDif < eps):\n",
    "        break\n",
    "\n",
    "    #setting finit\n",
    "    finit = fn.copy()\n",
    "\n",
    "#converting 1 values to white rgb value\n",
    "np.matrix(fn).round(0,fn)\n",
    "fn[fn==1]=255"
   ]
  },
  {
   "cell_type": "markdown",
   "metadata": {},
   "source": [
    "Tips:\n",
    "\n",
    "- Algorithm 2.2 contains a for-loop over the n column sums and a for-loop over the n row sums. First implement one of these for-loops.\n",
    "- The essential step concerns lines 8-9 and 14-15, where the update of the current approximation of the solution takes place.\n",
    "- The essential step concerns lines 8-9 and 14-15, where the update of the current approximation of the solution takes place. <u>Avoid extra loops as much as possible</u>. Use the vectorisations of Numpy: you can compute all row or column sums in one go by the routine sum. A complete column or row i of a matrix f you obtain via *f(:, i)* or *f(i, :)*, respectively. Subtracting the same number β from a complete row or column can be easily done via the function ones(). Use Google.\n",
    "- The constraints in line 10 and 16 can be enforced by applying the Python functions min and max to a complete row or column.\n",
    "- The double summation in line 18 can be computed easily (that is, without loops) by using the Matlab sum and abs functions.\n",
    "- To follow the progression during the iteration process it is convenient to add a print statement after line 20, for example:"
   ]
  },
  {
   "cell_type": "code",
   "execution_count": null,
   "metadata": {},
   "outputs": [],
   "source": [
    "#Open file at the beginning of script\n",
    "filename = open(\"filename\", 'w')\n",
    "\n",
    "print('k =', k, 'delta =', delta, file=filename)\n",
    "\n",
    "#Close file when no longer needed\n",
    "filename.close()"
   ]
  },
  {
   "cell_type": "markdown",
   "metadata": {},
   "source": [
    "- where delta is the value of the double sum in line 18.\n",
    "\n",
    "- (5pt) Apply your program to the picture rectangle.png, and use the *imwrite* function to save the result as a picture in PNG format. You might also add the final value of k and the used value of epsilon to the file name, e.g.,\n",
    "  \n",
    "- This is convenient when you carry out several experiments with different values of these parameters."
   ]
  },
  {
   "cell_type": "code",
   "execution_count": null,
   "metadata": {},
   "outputs": [],
   "source": [
    "#saving recreated image\n",
    "recfile = imname + '_HVrec_' + '_k=' + str(k) + '_eps=' + str(eps) + '.png'\n",
    "cv2.imwrite(recfile, fn)"
   ]
  },
  {
   "cell_type": "markdown",
   "metadata": {},
   "source": [
    "- (5pt) Add a line to your code in which the relative error *E* between the input array A and the reconstruction *f* is computed, that is, the quantity\n",
    "\n",
    "$E = ||f^{(k^{*})} - A|| := \\frac{1}{n^{2}}\\sum_{r = 1}^{n}\\sum_{c = 1}^{n} |f_{r,c}^{k^{*}} - A_{r,c}|$\n",
    "\n",
    "where $k^{*}$ is the value of the loop variable k at which the algorithm terminated, and $f^{k^{*}}$ is the corresponding reconstruction. "
   ]
  },
  {
   "cell_type": "code",
   "execution_count": null,
   "metadata": {},
   "outputs": [],
   "source": [
    "impath = 'Practical_Tomography/' + imname + '.png'\n",
    "A = cv2.imread(impath)\n",
    "A = A[:,:,0]\n",
    "E = abs(np.matrix(fn).sum() - np.matrix(A).sum() ) / (n*n)\n",
    "print(E)"
   ]
  },
  {
   "cell_type": "markdown",
   "metadata": {},
   "source": [
    "- (5pt) To see at which pixel locations the differences between input and reconstruction occur it is convenient to compute a difference picture $dif = f^{k^{*}} - A$. Add a line to your code to do this and save the result again as a picture in PNG format, for example as follows:"
   ]
  },
  {
   "cell_type": "code",
   "execution_count": null,
   "metadata": {},
   "outputs": [],
   "source": [
    "imname = \"rectangle\"\n",
    "impath = 'Practical_Tomography/' + imname + '.png'\n",
    "A = cv2.imread(impath)\n",
    "A = A[:,:,0]\n",
    "dif = fn - A\n",
    "\n",
    "diffile = imname + '_HVdif_' + '_k=' + str(k) + '_eps=' + str(eps) + '.png'\n",
    "cv2.imwrite(diffile, dif)"
   ]
  },
  {
   "cell_type": "markdown",
   "metadata": {},
   "source": [
    "- (5pt) Repeat the steps above for the pictures *oval.png* and *rock.png*."
   ]
  },
  {
   "cell_type": "code",
   "execution_count": null,
   "metadata": {},
   "outputs": [],
   "source": [
    "# difference image for oval\n",
    "imname = \"oval\"\n",
    "impath = 'Practical_Tomography/' + imname + '.png'\n",
    "A = cv2.imread(impath)\n",
    "A = A[:,:,0]\n",
    "dif = fn - A\n",
    "\n",
    "diffile = imname + '_HVdif_' + '_k=' + str(k) + '_eps=' + str(eps) + '.png'\n",
    "cv2.imwrite(diffile, dif)\n",
    "\n",
    "#difference image for rock\n",
    "imname = \"rock\"\n",
    "impath = 'Practical_Tomography/' + imname + '.png'\n",
    "A = cv2.imread(impath)\n",
    "A = A[:,:,0]\n",
    "dif = fn - A\n",
    "\n",
    "diffile = imname + '_HVdif_' + '_k=' + str(k) + '_eps=' + str(eps) + '.png'\n",
    "cv2.imwrite(diffile, dif)"
   ]
  },
  {
   "cell_type": "markdown",
   "metadata": {},
   "source": [
    "- (20pt) Describe your experiments, the values of the parameters that were used, and the relative error values obtained. For each of the input pictures, include three pictures in a row in your report: the input picture, the reconstruction picture, and the difference picture. Discuss the results. Explain the differences between the reconstruction quality of the various input pictures."
   ]
  },
  {
   "cell_type": "markdown",
   "metadata": {},
   "source": [
    "Original                                |Reconstruction             |                Difference       \n",
    ":-------------------------:             |:-------------------------:|                :-------------------------:\n",
    "![](Practical_Tomography/rectangle.png) |  ![](rectangle_HVrec__k=60_eps=5e-08.png) |![](rectangle_HVdif__k=60_eps=5e-08.png)\n",
    "\n",
    "By simply viewing the images we can see there is not much difference between the original image and the reconstructed image, this is reaffirmed by looking at the difference image where we see some scattered white dots representing the difference in pixels between the original and reconstruction. Furthermore, altering the MAX_ITER from 1, 10,50,100 at an accuracy threshold of 0.00000005 after 60 iterations we found that we reached our accuracy threshold and any furthere iteration would not provide signifcant change to our reconstruction."
   ]
  },
  {
   "cell_type": "markdown",
   "metadata": {},
   "source": [
    "Original                                |Reconstruction             |                Difference       \n",
    ":-------------------------:             |:-------------------------:|                :-------------------------:\n",
    "![](Practical_Tomography/rock.png) |  ![](rock_HVrec__k=499_eps=5e-08.png) |![](rock_HVdif__k=499_eps=5e-08.png)\n",
    "\n",
    "Above see our 2 representations of the rock and the difference. First, we have the original picture, the reconstructed picture and finally the result from finding the difference between the original and reconstructed image. At first glance, and just by looking at the 2 pictures, we can see that there is a very minimal difference between the two. The only noticeable difference is at the bottom and the top of the two photos, where we see more black pixels in the original than in the reconstructed image. This is shown in the difference result, as we can see the white lining at the bottom and the top of the result. We also see white lines on the bottom right and top left running along the edge of the rock, which indicates to us that the reconstructed image did not succeed in including these.\n",
    "\n",
    "Furthermore, upon testing different values for the the MAX_ITER at an accuracy threshold of 0.00000005 we found that when MAX_ITER = 500 and the reconstruction image was the best, it had minimal whitespace and had the smallest difference E value between the original image."
   ]
  },
  {
   "cell_type": "markdown",
   "metadata": {},
   "source": [
    "Original                                |Reconstruction             |                Difference       \n",
    ":-------------------------:             |:-------------------------:|                :-------------------------:\n",
    "![](Practical_Tomography/oval.png) |  ![](oval_HVrec__k=112_eps=5e-08.png) |![](oval_HVdif__k=112_eps=5e-08.png)\n",
    "\n",
    "Examining the orginal image and reconstruction image we see there is quite a drastic difference, this is further reaffirmed by white spaces in the difference image. Inaddition, When we examing the reconstruction with different MAX_ITER at an accuracy threshold of 0.00000005 we see reach our accuracy threshold after 112 iterations and any further iterations would not provide any significant change in our reconstruction\n"
   ]
  }
 ],
 "metadata": {
  "kernelspec": {
   "display_name": "Python 3",
   "language": "python",
   "name": "python3"
  },
  "language_info": {
   "codemirror_mode": {
    "name": "ipython",
    "version": 3
   },
   "file_extension": ".py",
   "mimetype": "text/x-python",
   "name": "python",
   "nbconvert_exporter": "python",
   "pygments_lexer": "ipython3",
   "version": "3.8.5-final"
  }
 },
 "nbformat": 4,
 "nbformat_minor": 4
}
