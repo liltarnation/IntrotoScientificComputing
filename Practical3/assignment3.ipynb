{
 "cells": [
  {
   "cell_type": "markdown",
   "metadata": {
    "collapsed": true,
    "pycharm": {
     "name": "#%%\n"
    }
   },
   "source": [
    "<h1><center>Introduction to Scientific Computing, Practical Markov Chains</center></h1>\n",
    "\n",
    "<h4>Sebastian Preststulen (S4270754), Dominic Therattil (S4228952)</h2>\n",
    "<h4>Date handed in: March 14, 2022</h2>\n",
    "<h4>Assignment 3 - PageRank </h2>\n",
    "\n",
    "In this assignment, the aim is to implement the PageRank algorithm, and analyze the effect of teleporting factor on the output of the algorithm."
   ]
  },
  {
   "cell_type": "markdown",
   "metadata": {
    "pycharm": {
     "name": "#%%\n"
    }
   },
   "source": [
    "### Importing necessary packages"
   ]
  },
  {
   "cell_type": "code",
   "execution_count": 66,
   "metadata": {},
   "outputs": [],
   "source": [
    "# if you have already installed numpy and matplotlib, you can skip the next two lines\n",
    "# pip install matplotlib\n",
    "# pip install numpy\n",
    "\n",
    "import numpy as np\n",
    "from numpy import linalg as LA\n",
    "import matplotlib.pyplot as plt"
   ]
  },
  {
   "cell_type": "code",
   "execution_count": 67,
   "metadata": {},
   "outputs": [],
   "source": [
    "# constructing the connectivity matrix\n",
    "A = np.array([[1,1,0],[1,0,1],[0,0,1]])"
   ]
  },
  {
   "cell_type": "markdown",
   "metadata": {},
   "source": [
    "## Implementing the elements of the PageRank algorithm\n",
    "\n",
    "\n",
    "In order to perform the algorithm, we define the following functions:\n",
    "- normalize_conn_matrix: computing the transition probability from the connecting matrix,\n",
    "- appr_stationary: compute the stationary distribution, based on x(t) = x(t-1) . T,\n",
    "- dead_end: to prevent dead end problem,\n",
    "- teleporting_factor: to resolve spider trap, \n",
    "\n",
    "Hint. you may use \"np.matmul\" function for the matrix multiplication."
   ]
  },
  {
   "cell_type": "code",
   "execution_count": 68,
   "metadata": {},
   "outputs": [],
   "source": [
    "def normalize_conn_matrix(A):\n",
    "    \"\"\"\n",
    "    A: (n*n) connectivity matrix\n",
    "    T: transition probabilities\n",
    "    \"\"\"\n",
    "    T = A.astype(np.float64).copy()\n",
    "    for i in range(len(A)):\n",
    "        T[i] = T[i]/sum(A[i])\n",
    "    \n",
    "    return T"
   ]
  },
  {
   "cell_type": "code",
   "execution_count": 69,
   "metadata": {},
   "outputs": [
    {
     "name": "stdout",
     "output_type": "stream",
     "text": [
      "[[0.5 0.5 0. ]\n",
      " [0.5 0.  0.5]\n",
      " [0.  0.  1. ]]\n",
      "\n",
      " Expected solution:\n",
      "[[0.5 0.5 0. ] \n",
      " [0.5 0.  0.5] \n",
      " [0.  0.  1. ]]\n"
     ]
    }
   ],
   "source": [
    "# Test your code\n",
    "T = normalize_conn_matrix(A)\n",
    "print(T)\n",
    "\n",
    "print(\"\\n Expected solution:\")\n",
    "print(\"[[0.5 0.5 0. ] \\n [0.5 0.  0.5] \\n [0.  0.  1. ]]\")"
   ]
  },
  {
   "cell_type": "code",
   "execution_count": 70,
   "metadata": {},
   "outputs": [],
   "source": [
    "def appr_stationary(T, maxiter=20):\n",
    "    \"\"\"\n",
    "    T: transition probability,\n",
    "    maxiter: number of steps\n",
    "    x_m: the state vector\n",
    "    \"\"\"\n",
    "    x_m = np.repeat(1.0/len(T), len(T))\n",
    "\n",
    "    for i in range(maxiter):\n",
    "        x_m = np.matmul(x_m, T)\n",
    "\n",
    "    return x_m"
   ]
  },
  {
   "cell_type": "code",
   "execution_count": 71,
   "metadata": {},
   "outputs": [
    {
     "name": "stdout",
     "output_type": "stream",
     "text": [
      "[0.00563018 0.00347964 0.99089019]\n",
      "\n",
      " Expected solution:\n",
      "[0.00563018 0.00347964 0.99089019]\n"
     ]
    }
   ],
   "source": [
    "# Test your code\n",
    "st_dist = appr_stationary(T, maxiter=20)\n",
    "print(st_dist)\n",
    "\n",
    "print(\"\\n Expected solution:\")\n",
    "print(\"[0.00563018 0.00347964 0.99089019]\")\n"
   ]
  },
  {
   "cell_type": "code",
   "execution_count": 72,
   "metadata": {},
   "outputs": [],
   "source": [
    "def dead_end(A):\n",
    "    \"\"\"\n",
    "    A: connecting matrix\n",
    "    A_new: connecting matrix by resolving the dead end problem\n",
    "    \"\"\"\n",
    "    A_new = A.copy()\n",
    "    for i in range(len(A)):\n",
    "        if (sum(A[i]) == 0):\n",
    "            A_new[i] = np.repeat(1.0, len(A))\n",
    "    \n",
    "    return A_new"
   ]
  },
  {
   "cell_type": "code",
   "execution_count": 73,
   "metadata": {},
   "outputs": [
    {
     "name": "stdout",
     "output_type": "stream",
     "text": [
      "[[1 1 0]\n",
      " [1 0 1]\n",
      " [0 0 1]]\n",
      "\n",
      " Expected output:\n",
      "[[1 1 0] \n",
      " [1 0 1] \n",
      " [0 0 1]]\n"
     ]
    }
   ],
   "source": [
    "print(dead_end(A))\n",
    "\n",
    "print(\"\\n Expected output:\")\n",
    "print(\"[[1 1 0] \\n [1 0 1] \\n [0 0 1]]\")"
   ]
  },
  {
   "cell_type": "code",
   "execution_count": 74,
   "metadata": {},
   "outputs": [],
   "source": [
    "def teleporting_factor(T, alpha=0.9):\n",
    "    \"\"\"\n",
    "    T: transition probability,\n",
    "    alpha: teleporting factor.\n",
    "    T_new: transition probability after implementing teleporting factor\n",
    "    \"\"\"\n",
    "    T_new = T.copy()\n",
    "    T_new = alpha * T_new + (1 - alpha) * 1/len(T_new)\n",
    "\n",
    "    return T_new"
   ]
  },
  {
   "cell_type": "code",
   "execution_count": 75,
   "metadata": {},
   "outputs": [
    {
     "name": "stdout",
     "output_type": "stream",
     "text": [
      "[[0.48333333 0.48333333 0.03333333]\n",
      " [0.48333333 0.03333333 0.48333333]\n",
      " [0.03333333 0.03333333 0.93333333]]\n",
      "\n",
      " Expected output:\n",
      "[[0.48333333 0.48333333 0.03333333] \n",
      " [0.48333333 0.03333333 0.48333333] \n",
      " [0.03333333 0.03333333 0.93333333]]\n"
     ]
    }
   ],
   "source": [
    "print(teleporting_factor(dead_end(T)))\n",
    "\n",
    "print(\"\\n Expected output:\")\n",
    "print(\"[[0.48333333 0.48333333 0.03333333] \\n [0.48333333 0.03333333 0.48333333] \\n [0.03333333 0.03333333 0.93333333]]\")"
   ]
  },
  {
   "cell_type": "markdown",
   "metadata": {},
   "source": [
    "## PageRank algorithm \n",
    "\n",
    "Here, we use the functions, defined above, to perform PageRank algorithm.\n",
    "   1) resolve the dead end problem,<br>\n",
    "   2) compute the transition probability, <br>\n",
    "   3) use teleporting factor to prevent spider trap,<br>\n",
    "   4) compute the stationary distribuion.<br>"
   ]
  },
  {
   "cell_type": "code",
   "execution_count": 76,
   "metadata": {},
   "outputs": [],
   "source": [
    "def PageRank(A, alpha=0.8, maxiter=20):\n",
    "    \"\"\"\n",
    "    A: connectivity matrix,\n",
    "    alpha: teleporting factor,\n",
    "    maxiter: number of steps (for approximating stationary distribution)\n",
    "    st_dist: an approximation for the stationary distribution \n",
    "    \"\"\"\n",
    "    # Insert your code here\n",
    "    newA = dead_end(A)\n",
    "    T = normalize_conn_matrix(newA)\n",
    "    T_new = teleporting_factor(T, alpha)\n",
    "    st_dist = appr_stationary(T_new, maxiter)\n",
    "    \n",
    "    return st_dist"
   ]
  },
  {
   "cell_type": "code",
   "execution_count": 77,
   "metadata": {},
   "outputs": [
    {
     "name": "stdout",
     "output_type": "stream",
     "text": [
      "[0.13910685 0.09593446 0.76495869]\n",
      "\n",
      " Expected output:\n",
      "[[0.13910008 0.09593028 0.76496964]]\n"
     ]
    }
   ],
   "source": [
    "print(PageRank(A, 0.9, 30))\n",
    "\n",
    "print(\"\\n Expected output:\")\n",
    "print(\"[[0.13910008 0.09593028 0.76496964]]\")"
   ]
  },
  {
   "cell_type": "markdown",
   "metadata": {},
   "source": [
    "<h1><center>Analyzing PageRank algorithm</center></h1>\n",
    "\n",
    "<h2>Performing PageRank algorithm on the following network </h2>\n",
    "\n",
    "![Cat](graph.png)\n",
    "\n",
    "In the following, please perform:\n",
    "\n",
    "- Performing PageRank algorithm on the network,\n",
    "- Investigating the effect of teleporting "
   ]
  },
  {
   "cell_type": "markdown",
   "metadata": {},
   "source": [
    "### 1) Perform PageRank algorithm\n",
    "\n",
    "Apply PageRank on the network (alpha = 0.85), and report the pageranks,\n",
    "   1) Construct the connectivity matrix, <br>\n",
    "   2) Apply PageRank algorithm (i.e. function \"PageRank\")"
   ]
  },
  {
   "cell_type": "code",
   "execution_count": 80,
   "metadata": {},
   "outputs": [
    {
     "name": "stdout",
     "output_type": "stream",
     "text": [
      "[0.03278149 0.38359681 0.34371442 0.03908709 0.08088569 0.03908709\n",
      " 0.01616948 0.01616948 0.01616948 0.01616948 0.01616948]\n"
     ]
    }
   ],
   "source": [
    "arr = np.array(\n",
    "[[0,0,0,0,0,0,0,0,0,0,0],#a\n",
    "[0,0,1,0,0,0,0,0,0,0,0], #b\n",
    "[0,1,0,0,0,0,0,0,0,0,0], #c\n",
    "[1,1,0,0,0,0,0,0,0,0,0], #d\n",
    "[0,1,0,1,0,1,0,0,0,0,0], #e\n",
    "[0,1,0,0,1,0,0,0,0,0,0], #f\n",
    "[0,1,0,0,1,0,0,0,0,0,0], #g\n",
    "[0,1,0,0,1,0,0,0,0,0,0], #h\n",
    "[0,1,0,0,1,0,0,0,0,0,0], #l\n",
    "[0,0,0,0,1,0,0,0,0,0,0], #m\n",
    "[0,0,0,0,1,0,0,0,0,0,0]] #n \n",
    ")\n",
    "\n",
    "print(PageRank(arr, 0.85, 30))"
   ]
  },
  {
   "cell_type": "markdown",
   "metadata": {},
   "source": [
    "### 2) The effect of spider trap\n",
    "\n",
    "In order to see the effect of spider trap on the output, please perform PageRank algorithm with different alpha values. <br>\n",
    "Run the algorithm with alpha = 1 (corresponding to not using the teleporting factor):<br>\n",
    "    - compare its output with alpha = 0.85, <br>\n",
    "    - please discuss the effect of teleporting factor on the stationary distribution. \n",
    "    "
   ]
  },
  {
   "cell_type": "code",
   "execution_count": 83,
   "metadata": {},
   "outputs": [
    {
     "name": "stdout",
     "output_type": "stream",
     "text": [
      "PageRank when alpha = 1: [1.65124104e-07 3.85320722e-01 6.14678315e-01 1.88864442e-07\n",
      " 2.95148105e-07 1.88864442e-07 2.48884102e-08 2.48884102e-08\n",
      " 2.48884102e-08 2.48884102e-08 2.48884102e-08] \n",
      "\n",
      "PageRank when alpha = 0.85: [0.03278149 0.38359681 0.34371442 0.03908709 0.08088569 0.03908709\n",
      " 0.01616948 0.01616948 0.01616948 0.01616948 0.01616948]\n"
     ]
    }
   ],
   "source": [
    "# Insert your code here\n",
    "print(\"PageRank when alpha = 1:\", PageRank(arr, 1, 30), \"\\n\")\n",
    "print(\"PageRank when alpha = 0.85:\", PageRank(arr, 0.85, 30))"
   ]
  },
  {
   "cell_type": "markdown",
   "metadata": {},
   "source": [
    "2 ) </br>\n",
    "When we are setting alpha as 1, we are not utilizing our teleporting factor because alpha is 1. Since we are not using this, we get a stationary distribution that is very low. We also know that it is wrong, since the sum of the distribution does not equal to 1. When we set alpha to 0.85 (which minimally increases probability to reach other nodes that can't be reached), we get a stationary distribution which is much more accurate and correct. Thus, using an appropriate value for alpha when implementing the teleporting factor is necessary in order to get the accurate results for the stationary distribution."
   ]
  },
  {
   "cell_type": "markdown",
   "metadata": {},
   "source": [
    "Contribution: </br>\n",
    "We worked on the assignment collaboratively over a call, helping each other as we got stuck and talking through ideas. </br>\n",
    "Program Design: 50/50 </br>\n",
    "Program Implementation: 50/50 </br>\n",
    "Answering questions posed: 50/50 </br>\n",
    "Writing the report: 50/50"
   ]
  }
 ],
 "metadata": {
  "kernelspec": {
   "display_name": "Python 3 (ipykernel)",
   "language": "python",
   "name": "python3"
  },
  "language_info": {
   "codemirror_mode": {
    "name": "ipython",
    "version": 3
   },
   "file_extension": ".py",
   "mimetype": "text/x-python",
   "name": "python",
   "nbconvert_exporter": "python",
   "pygments_lexer": "ipython3",
   "version": "3.10.2"
  }
 },
 "nbformat": 4,
 "nbformat_minor": 1
}
